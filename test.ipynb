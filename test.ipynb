{
 "cells": [
  {
   "cell_type": "code",
   "execution_count": 1,
   "metadata": {},
   "outputs": [
    {
     "data": {
      "text/plain": [
       "True"
      ]
     },
     "execution_count": 1,
     "metadata": {},
     "output_type": "execute_result"
    }
   ],
   "source": [
    "from dotenv import load_dotenv\n",
    "\n",
    "load_dotenv()"
   ]
  },
  {
   "cell_type": "code",
   "execution_count": 2,
   "metadata": {},
   "outputs": [],
   "source": [
    "from langsmith import Client"
   ]
  },
  {
   "cell_type": "code",
   "execution_count": 3,
   "metadata": {},
   "outputs": [],
   "source": [
    "# LangSmith 설정\n",
    "client = Client()\n",
    "datasets = client.list_datasets(dataset_name=\"test1\")\n",
    "try:\n",
    "    dataset = next(iter(datasets))\n",
    "except StopIteration:\n",
    "    print(\"No Dataset found\")"
   ]
  },
  {
   "cell_type": "code",
   "execution_count": 4,
   "metadata": {},
   "outputs": [
    {
     "name": "stdout",
     "output_type": "stream",
     "text": [
      "id=UUID('599e5028-4219-47d3-9c35-df244adfce8a') created_at=datetime.datetime(2024, 3, 30, 6, 10, 5, 484332) modified_at=datetime.datetime(2024, 3, 30, 6, 10, 6, 167017) run_id=UUID('56e05ab2-cad6-4654-b3b8-9cf380779a2c') key='thumbs' score=1.0 value=None comment='대한민국의 수도는 어디야?' correction=None feedback_source=FeedbackSourceBase(type='api', metadata={}) session_id=UUID('c8f964ce-5210-467b-ba83-8f8d3bf5e716')\n"
     ]
    }
   ],
   "source": [
    "# LangSmith 설정\n",
    "client = Client()\n",
    "for feed in client.list_feedback():\n",
    "    print(feed)\n",
    "    break"
   ]
  },
  {
   "cell_type": "code",
   "execution_count": 5,
   "metadata": {},
   "outputs": [
    {
     "name": "stdout",
     "output_type": "stream",
     "text": [
      "id 56e05ab2-cad6-4654-b3b8-9cf380779a2c\n",
      "name RunnableWithMessageHistory\n",
      "start_time 2024-03-30 06:09:48.653877\n",
      "run_type chain\n",
      "end_time 2024-03-30 06:09:49.490328\n",
      "{'metadata': {'query': '대한민국의 수도는 어디야?', 'session_id': 'C09633'}}\n",
      "extra {'metadata': {'query': '대한민국의 수도는 어디야?', 'session_id': 'C09633'}}\n",
      "error None\n",
      "serialized {'id': ['langchain', 'schema', 'runnable', 'RunnableSequence'], 'kwargs': {'first': {'id': ['langchain', 'schema', 'runnable', 'RunnableBinding'], 'kwargs': {'bound': {'id': ['langchain', 'schema', 'runnable', 'RunnableAssign'], 'kwargs': {'mapper': {'id': ['langchain', 'schema', 'runnable', 'RunnableParallel'], 'kwargs': {'steps': {'history': {'id': ['langchain', 'schema', 'runnable', 'RunnableBinding'], 'kwargs': {'bound': {'id': ['langchain_core', 'runnables', 'base', 'RunnableLambda'], 'lc': 1, 'repr': 'RunnableLambda(_enter_history)', 'type': 'not_implemented'}, 'config': {'run_name': 'load_history'}, 'config_factories': [], 'custom_input_type': None, 'custom_output_type': None, 'kwargs': {}}, 'lc': 1, 'name': '_enter_history', 'type': 'constructor'}}}, 'lc': 1, 'name': 'RunnableParallel<history>', 'type': 'constructor'}}, 'lc': 1, 'name': 'RunnableAssign<history>', 'type': 'constructor'}, 'config': {'run_name': 'insert_history'}, 'config_factories': [], 'custom_input_type': None, 'custom_output_type': None, 'kwargs': {}}, 'lc': 1, 'name': 'RunnableAssign<history>', 'type': 'constructor'}, 'last': {'graph': {'edges': [{'source': 0, 'target': 1}, {'source': 2, 'target': 3}, {'source': 1, 'target': 2}], 'nodes': [{'data': {'definitions': {'AIMessage': {'description': 'Message from an AI.', 'properties': {'additional_kwargs': {'title': 'Additional Kwargs', 'type': 'object'}, 'content': {'anyOf': [{'type': 'string'}, {'items': {'anyOf': [{'type': 'string'}, {'type': 'object'}]}, 'type': 'array'}], 'title': 'Content'}, 'example': {'default': False, 'title': 'Example', 'type': 'boolean'}, 'id': {'title': 'Id', 'type': 'string'}, 'name': {'title': 'Name', 'type': 'string'}, 'response_metadata': {'title': 'Response Metadata', 'type': 'object'}, 'type': {'default': 'ai', 'enum': ['ai'], 'title': 'Type', 'type': 'string'}}, 'required': ['content'], 'title': 'AIMessage', 'type': 'object'}, 'ChatMessage': {'description': 'Message that can be assigned an arbitrary speaker (i.e. role).', 'properties': {'additional_kwargs': {'title': 'Additional Kwargs', 'type': 'object'}, 'content': {'anyOf': [{'type': 'string'}, {'items': {'anyOf': [{'type': 'string'}, {'type': 'object'}]}, 'type': 'array'}], 'title': 'Content'}, 'id': {'title': 'Id', 'type': 'string'}, 'name': {'title': 'Name', 'type': 'string'}, 'response_metadata': {'title': 'Response Metadata', 'type': 'object'}, 'role': {'title': 'Role', 'type': 'string'}, 'type': {'default': 'chat', 'enum': ['chat'], 'title': 'Type', 'type': 'string'}}, 'required': ['content', 'role'], 'title': 'ChatMessage', 'type': 'object'}, 'FunctionMessage': {'description': 'Message for passing the result of executing a function back to a model.', 'properties': {'additional_kwargs': {'title': 'Additional Kwargs', 'type': 'object'}, 'content': {'anyOf': [{'type': 'string'}, {'items': {'anyOf': [{'type': 'string'}, {'type': 'object'}]}, 'type': 'array'}], 'title': 'Content'}, 'id': {'title': 'Id', 'type': 'string'}, 'name': {'title': 'Name', 'type': 'string'}, 'response_metadata': {'title': 'Response Metadata', 'type': 'object'}, 'type': {'default': 'function', 'enum': ['function'], 'title': 'Type', 'type': 'string'}}, 'required': ['content', 'name'], 'title': 'FunctionMessage', 'type': 'object'}, 'HumanMessage': {'description': 'Message from a human.', 'properties': {'additional_kwargs': {'title': 'Additional Kwargs', 'type': 'object'}, 'content': {'anyOf': [{'type': 'string'}, {'items': {'anyOf': [{'type': 'string'}, {'type': 'object'}]}, 'type': 'array'}], 'title': 'Content'}, 'example': {'default': False, 'title': 'Example', 'type': 'boolean'}, 'id': {'title': 'Id', 'type': 'string'}, 'name': {'title': 'Name', 'type': 'string'}, 'response_metadata': {'title': 'Response Metadata', 'type': 'object'}, 'type': {'default': 'human', 'enum': ['human'], 'title': 'Type', 'type': 'string'}}, 'required': ['content'], 'title': 'HumanMessage', 'type': 'object'}, 'SystemMessage': {'description': 'Message for priming AI behavior, usually passed in as the first of a sequence\\nof input messages.', 'properties': {'additional_kwargs': {'title': 'Additional Kwargs', 'type': 'object'}, 'content': {'anyOf': [{'type': 'string'}, {'items': {'anyOf': [{'type': 'string'}, {'type': 'object'}]}, 'type': 'array'}], 'title': 'Content'}, 'id': {'title': 'Id', 'type': 'string'}, 'name': {'title': 'Name', 'type': 'string'}, 'response_metadata': {'title': 'Response Metadata', 'type': 'object'}, 'type': {'default': 'system', 'enum': ['system'], 'title': 'Type', 'type': 'string'}}, 'required': ['content'], 'title': 'SystemMessage', 'type': 'object'}, 'ToolMessage': {'description': 'Message for passing the result of executing a tool back to a model.', 'properties': {'additional_kwargs': {'title': 'Additional Kwargs', 'type': 'object'}, 'content': {'anyOf': [{'type': 'string'}, {'items': {'anyOf': [{'type': 'string'}, {'type': 'object'}]}, 'type': 'array'}], 'title': 'Content'}, 'id': {'title': 'Id', 'type': 'string'}, 'name': {'title': 'Name', 'type': 'string'}, 'response_metadata': {'title': 'Response Metadata', 'type': 'object'}, 'tool_call_id': {'title': 'Tool Call Id', 'type': 'string'}, 'type': {'default': 'tool', 'enum': ['tool'], 'title': 'Type', 'type': 'string'}}, 'required': ['content', 'tool_call_id'], 'title': 'ToolMessage', 'type': 'object'}}, 'properties': {'history': {'items': {'anyOf': [{'$ref': '#/definitions/AIMessage'}, {'$ref': '#/definitions/HumanMessage'}, {'$ref': '#/definitions/ChatMessage'}, {'$ref': '#/definitions/SystemMessage'}, {'$ref': '#/definitions/FunctionMessage'}, {'$ref': '#/definitions/ToolMessage'}]}, 'title': 'History', 'type': 'array'}, 'question': {'title': 'Question', 'type': 'string'}}, 'title': 'PromptInput', 'type': 'object'}, 'id': 0, 'type': 'schema'}, {'data': {'id': ['langchain', 'prompts', 'chat', 'ChatPromptTemplate'], 'name': 'ChatPromptTemplate'}, 'id': 1, 'type': 'runnable'}, {'data': {'id': ['langchain', 'chat_models', 'openai', 'ChatOpenAI'], 'name': 'ChatOpenAI'}, 'id': 2, 'type': 'runnable'}, {'data': {'anyOf': [{'$ref': '#/definitions/AIMessage'}, {'$ref': '#/definitions/HumanMessage'}, {'$ref': '#/definitions/ChatMessage'}, {'$ref': '#/definitions/SystemMessage'}, {'$ref': '#/definitions/FunctionMessage'}, {'$ref': '#/definitions/ToolMessage'}], 'definitions': {'AIMessage': {'description': 'Message from an AI.', 'properties': {'additional_kwargs': {'title': 'Additional Kwargs', 'type': 'object'}, 'content': {'anyOf': [{'type': 'string'}, {'items': {'anyOf': [{'type': 'string'}, {'type': 'object'}]}, 'type': 'array'}], 'title': 'Content'}, 'example': {'default': False, 'title': 'Example', 'type': 'boolean'}, 'id': {'title': 'Id', 'type': 'string'}, 'name': {'title': 'Name', 'type': 'string'}, 'response_metadata': {'title': 'Response Metadata', 'type': 'object'}, 'type': {'default': 'ai', 'enum': ['ai'], 'title': 'Type', 'type': 'string'}}, 'required': ['content'], 'title': 'AIMessage', 'type': 'object'}, 'ChatMessage': {'description': 'Message that can be assigned an arbitrary speaker (i.e. role).', 'properties': {'additional_kwargs': {'title': 'Additional Kwargs', 'type': 'object'}, 'content': {'anyOf': [{'type': 'string'}, {'items': {'anyOf': [{'type': 'string'}, {'type': 'object'}]}, 'type': 'array'}], 'title': 'Content'}, 'id': {'title': 'Id', 'type': 'string'}, 'name': {'title': 'Name', 'type': 'string'}, 'response_metadata': {'title': 'Response Metadata', 'type': 'object'}, 'role': {'title': 'Role', 'type': 'string'}, 'type': {'default': 'chat', 'enum': ['chat'], 'title': 'Type', 'type': 'string'}}, 'required': ['content', 'role'], 'title': 'ChatMessage', 'type': 'object'}, 'FunctionMessage': {'description': 'Message for passing the result of executing a function back to a model.', 'properties': {'additional_kwargs': {'title': 'Additional Kwargs', 'type': 'object'}, 'content': {'anyOf': [{'type': 'string'}, {'items': {'anyOf': [{'type': 'string'}, {'type': 'object'}]}, 'type': 'array'}], 'title': 'Content'}, 'id': {'title': 'Id', 'type': 'string'}, 'name': {'title': 'Name', 'type': 'string'}, 'response_metadata': {'title': 'Response Metadata', 'type': 'object'}, 'type': {'default': 'function', 'enum': ['function'], 'title': 'Type', 'type': 'string'}}, 'required': ['content', 'name'], 'title': 'FunctionMessage', 'type': 'object'}, 'HumanMessage': {'description': 'Message from a human.', 'properties': {'additional_kwargs': {'title': 'Additional Kwargs', 'type': 'object'}, 'content': {'anyOf': [{'type': 'string'}, {'items': {'anyOf': [{'type': 'string'}, {'type': 'object'}]}, 'type': 'array'}], 'title': 'Content'}, 'example': {'default': False, 'title': 'Example', 'type': 'boolean'}, 'id': {'title': 'Id', 'type': 'string'}, 'name': {'title': 'Name', 'type': 'string'}, 'response_metadata': {'title': 'Response Metadata', 'type': 'object'}, 'type': {'default': 'human', 'enum': ['human'], 'title': 'Type', 'type': 'string'}}, 'required': ['content'], 'title': 'HumanMessage', 'type': 'object'}, 'SystemMessage': {'description': 'Message for priming AI behavior, usually passed in as the first of a sequence\\nof input messages.', 'properties': {'additional_kwargs': {'title': 'Additional Kwargs', 'type': 'object'}, 'content': {'anyOf': [{'type': 'string'}, {'items': {'anyOf': [{'type': 'string'}, {'type': 'object'}]}, 'type': 'array'}], 'title': 'Content'}, 'id': {'title': 'Id', 'type': 'string'}, 'name': {'title': 'Name', 'type': 'string'}, 'response_metadata': {'title': 'Response Metadata', 'type': 'object'}, 'type': {'default': 'system', 'enum': ['system'], 'title': 'Type', 'type': 'string'}}, 'required': ['content'], 'title': 'SystemMessage', 'type': 'object'}, 'ToolMessage': {'description': 'Message for passing the result of executing a tool back to a model.', 'properties': {'additional_kwargs': {'title': 'Additional Kwargs', 'type': 'object'}, 'content': {'anyOf': [{'type': 'string'}, {'items': {'anyOf': [{'type': 'string'}, {'type': 'object'}]}, 'type': 'array'}], 'title': 'Content'}, 'id': {'title': 'Id', 'type': 'string'}, 'name': {'title': 'Name', 'type': 'string'}, 'response_metadata': {'title': 'Response Metadata', 'type': 'object'}, 'tool_call_id': {'title': 'Tool Call Id', 'type': 'string'}, 'type': {'default': 'tool', 'enum': ['tool'], 'title': 'Type', 'type': 'string'}}, 'required': ['content', 'tool_call_id'], 'title': 'ToolMessage', 'type': 'object'}}, 'title': 'ChatOpenAIOutput'}, 'id': 3, 'type': 'schema'}]}, 'id': ['langchain', 'schema', 'runnable', 'RunnableBinding'], 'kwargs': {'bound': {'graph': {'edges': [{'source': 0, 'target': 1}, {'source': 2, 'target': 3}, {'source': 1, 'target': 2}], 'nodes': [{'data': {'definitions': {'AIMessage': {'description': 'Message from an AI.', 'properties': {'additional_kwargs': {'title': 'Additional Kwargs', 'type': 'object'}, 'content': {'anyOf': [{'type': 'string'}, {'items': {'anyOf': [{'type': 'string'}, {'type': 'object'}]}, 'type': 'array'}], 'title': 'Content'}, 'example': {'default': False, 'title': 'Example', 'type': 'boolean'}, 'id': {'title': 'Id', 'type': 'string'}, 'name': {'title': 'Name', 'type': 'string'}, 'response_metadata': {'title': 'Response Metadata', 'type': 'object'}, 'type': {'default': 'ai', 'enum': ['ai'], 'title': 'Type', 'type': 'string'}}, 'required': ['content'], 'title': 'AIMessage', 'type': 'object'}, 'ChatMessage': {'description': 'Message that can be assigned an arbitrary speaker (i.e. role).', 'properties': {'additional_kwargs': {'title': 'Additional Kwargs', 'type': 'object'}, 'content': {'anyOf': [{'type': 'string'}, {'items': {'anyOf': [{'type': 'string'}, {'type': 'object'}]}, 'type': 'array'}], 'title': 'Content'}, 'id': {'title': 'Id', 'type': 'string'}, 'name': {'title': 'Name', 'type': 'string'}, 'response_metadata': {'title': 'Response Metadata', 'type': 'object'}, 'role': {'title': 'Role', 'type': 'string'}, 'type': {'default': 'chat', 'enum': ['chat'], 'title': 'Type', 'type': 'string'}}, 'required': ['content', 'role'], 'title': 'ChatMessage', 'type': 'object'}, 'FunctionMessage': {'description': 'Message for passing the result of executing a function back to a model.', 'properties': {'additional_kwargs': {'title': 'Additional Kwargs', 'type': 'object'}, 'content': {'anyOf': [{'type': 'string'}, {'items': {'anyOf': [{'type': 'string'}, {'type': 'object'}]}, 'type': 'array'}], 'title': 'Content'}, 'id': {'title': 'Id', 'type': 'string'}, 'name': {'title': 'Name', 'type': 'string'}, 'response_metadata': {'title': 'Response Metadata', 'type': 'object'}, 'type': {'default': 'function', 'enum': ['function'], 'title': 'Type', 'type': 'string'}}, 'required': ['content', 'name'], 'title': 'FunctionMessage', 'type': 'object'}, 'HumanMessage': {'description': 'Message from a human.', 'properties': {'additional_kwargs': {'title': 'Additional Kwargs', 'type': 'object'}, 'content': {'anyOf': [{'type': 'string'}, {'items': {'anyOf': [{'type': 'string'}, {'type': 'object'}]}, 'type': 'array'}], 'title': 'Content'}, 'example': {'default': False, 'title': 'Example', 'type': 'boolean'}, 'id': {'title': 'Id', 'type': 'string'}, 'name': {'title': 'Name', 'type': 'string'}, 'response_metadata': {'title': 'Response Metadata', 'type': 'object'}, 'type': {'default': 'human', 'enum': ['human'], 'title': 'Type', 'type': 'string'}}, 'required': ['content'], 'title': 'HumanMessage', 'type': 'object'}, 'SystemMessage': {'description': 'Message for priming AI behavior, usually passed in as the first of a sequence\\nof input messages.', 'properties': {'additional_kwargs': {'title': 'Additional Kwargs', 'type': 'object'}, 'content': {'anyOf': [{'type': 'string'}, {'items': {'anyOf': [{'type': 'string'}, {'type': 'object'}]}, 'type': 'array'}], 'title': 'Content'}, 'id': {'title': 'Id', 'type': 'string'}, 'name': {'title': 'Name', 'type': 'string'}, 'response_metadata': {'title': 'Response Metadata', 'type': 'object'}, 'type': {'default': 'system', 'enum': ['system'], 'title': 'Type', 'type': 'string'}}, 'required': ['content'], 'title': 'SystemMessage', 'type': 'object'}, 'ToolMessage': {'description': 'Message for passing the result of executing a tool back to a model.', 'properties': {'additional_kwargs': {'title': 'Additional Kwargs', 'type': 'object'}, 'content': {'anyOf': [{'type': 'string'}, {'items': {'anyOf': [{'type': 'string'}, {'type': 'object'}]}, 'type': 'array'}], 'title': 'Content'}, 'id': {'title': 'Id', 'type': 'string'}, 'name': {'title': 'Name', 'type': 'string'}, 'response_metadata': {'title': 'Response Metadata', 'type': 'object'}, 'tool_call_id': {'title': 'Tool Call Id', 'type': 'string'}, 'type': {'default': 'tool', 'enum': ['tool'], 'title': 'Type', 'type': 'string'}}, 'required': ['content', 'tool_call_id'], 'title': 'ToolMessage', 'type': 'object'}}, 'properties': {'history': {'items': {'anyOf': [{'$ref': '#/definitions/AIMessage'}, {'$ref': '#/definitions/HumanMessage'}, {'$ref': '#/definitions/ChatMessage'}, {'$ref': '#/definitions/SystemMessage'}, {'$ref': '#/definitions/FunctionMessage'}, {'$ref': '#/definitions/ToolMessage'}]}, 'title': 'History', 'type': 'array'}, 'question': {'title': 'Question', 'type': 'string'}}, 'title': 'PromptInput', 'type': 'object'}, 'id': 0, 'type': 'schema'}, {'data': {'id': ['langchain', 'prompts', 'chat', 'ChatPromptTemplate'], 'name': 'ChatPromptTemplate'}, 'id': 1, 'type': 'runnable'}, {'data': {'id': ['langchain', 'chat_models', 'openai', 'ChatOpenAI'], 'name': 'ChatOpenAI'}, 'id': 2, 'type': 'runnable'}, {'data': {'anyOf': [{'$ref': '#/definitions/AIMessage'}, {'$ref': '#/definitions/HumanMessage'}, {'$ref': '#/definitions/ChatMessage'}, {'$ref': '#/definitions/SystemMessage'}, {'$ref': '#/definitions/FunctionMessage'}, {'$ref': '#/definitions/ToolMessage'}], 'definitions': {'AIMessage': {'description': 'Message from an AI.', 'properties': {'additional_kwargs': {'title': 'Additional Kwargs', 'type': 'object'}, 'content': {'anyOf': [{'type': 'string'}, {'items': {'anyOf': [{'type': 'string'}, {'type': 'object'}]}, 'type': 'array'}], 'title': 'Content'}, 'example': {'default': False, 'title': 'Example', 'type': 'boolean'}, 'id': {'title': 'Id', 'type': 'string'}, 'name': {'title': 'Name', 'type': 'string'}, 'response_metadata': {'title': 'Response Metadata', 'type': 'object'}, 'type': {'default': 'ai', 'enum': ['ai'], 'title': 'Type', 'type': 'string'}}, 'required': ['content'], 'title': 'AIMessage', 'type': 'object'}, 'ChatMessage': {'description': 'Message that can be assigned an arbitrary speaker (i.e. role).', 'properties': {'additional_kwargs': {'title': 'Additional Kwargs', 'type': 'object'}, 'content': {'anyOf': [{'type': 'string'}, {'items': {'anyOf': [{'type': 'string'}, {'type': 'object'}]}, 'type': 'array'}], 'title': 'Content'}, 'id': {'title': 'Id', 'type': 'string'}, 'name': {'title': 'Name', 'type': 'string'}, 'response_metadata': {'title': 'Response Metadata', 'type': 'object'}, 'role': {'title': 'Role', 'type': 'string'}, 'type': {'default': 'chat', 'enum': ['chat'], 'title': 'Type', 'type': 'string'}}, 'required': ['content', 'role'], 'title': 'ChatMessage', 'type': 'object'}, 'FunctionMessage': {'description': 'Message for passing the result of executing a function back to a model.', 'properties': {'additional_kwargs': {'title': 'Additional Kwargs', 'type': 'object'}, 'content': {'anyOf': [{'type': 'string'}, {'items': {'anyOf': [{'type': 'string'}, {'type': 'object'}]}, 'type': 'array'}], 'title': 'Content'}, 'id': {'title': 'Id', 'type': 'string'}, 'name': {'title': 'Name', 'type': 'string'}, 'response_metadata': {'title': 'Response Metadata', 'type': 'object'}, 'type': {'default': 'function', 'enum': ['function'], 'title': 'Type', 'type': 'string'}}, 'required': ['content', 'name'], 'title': 'FunctionMessage', 'type': 'object'}, 'HumanMessage': {'description': 'Message from a human.', 'properties': {'additional_kwargs': {'title': 'Additional Kwargs', 'type': 'object'}, 'content': {'anyOf': [{'type': 'string'}, {'items': {'anyOf': [{'type': 'string'}, {'type': 'object'}]}, 'type': 'array'}], 'title': 'Content'}, 'example': {'default': False, 'title': 'Example', 'type': 'boolean'}, 'id': {'title': 'Id', 'type': 'string'}, 'name': {'title': 'Name', 'type': 'string'}, 'response_metadata': {'title': 'Response Metadata', 'type': 'object'}, 'type': {'default': 'human', 'enum': ['human'], 'title': 'Type', 'type': 'string'}}, 'required': ['content'], 'title': 'HumanMessage', 'type': 'object'}, 'SystemMessage': {'description': 'Message for priming AI behavior, usually passed in as the first of a sequence\\nof input messages.', 'properties': {'additional_kwargs': {'title': 'Additional Kwargs', 'type': 'object'}, 'content': {'anyOf': [{'type': 'string'}, {'items': {'anyOf': [{'type': 'string'}, {'type': 'object'}]}, 'type': 'array'}], 'title': 'Content'}, 'id': {'title': 'Id', 'type': 'string'}, 'name': {'title': 'Name', 'type': 'string'}, 'response_metadata': {'title': 'Response Metadata', 'type': 'object'}, 'type': {'default': 'system', 'enum': ['system'], 'title': 'Type', 'type': 'string'}}, 'required': ['content'], 'title': 'SystemMessage', 'type': 'object'}, 'ToolMessage': {'description': 'Message for passing the result of executing a tool back to a model.', 'properties': {'additional_kwargs': {'title': 'Additional Kwargs', 'type': 'object'}, 'content': {'anyOf': [{'type': 'string'}, {'items': {'anyOf': [{'type': 'string'}, {'type': 'object'}]}, 'type': 'array'}], 'title': 'Content'}, 'id': {'title': 'Id', 'type': 'string'}, 'name': {'title': 'Name', 'type': 'string'}, 'response_metadata': {'title': 'Response Metadata', 'type': 'object'}, 'tool_call_id': {'title': 'Tool Call Id', 'type': 'string'}, 'type': {'default': 'tool', 'enum': ['tool'], 'title': 'Type', 'type': 'string'}}, 'required': ['content', 'tool_call_id'], 'title': 'ToolMessage', 'type': 'object'}}, 'title': 'ChatOpenAIOutput'}, 'id': 3, 'type': 'schema'}]}, 'id': ['langchain', 'schema', 'runnable', 'RunnableSequence'], 'kwargs': {'first': {'graph': {'edges': [{'source': 0, 'target': 1}, {'source': 1, 'target': 2}], 'nodes': [{'data': {'definitions': {'AIMessage': {'description': 'Message from an AI.', 'properties': {'additional_kwargs': {'title': 'Additional Kwargs', 'type': 'object'}, 'content': {'anyOf': [{'type': 'string'}, {'items': {'anyOf': [{'type': 'string'}, {'type': 'object'}]}, 'type': 'array'}], 'title': 'Content'}, 'example': {'default': False, 'title': 'Example', 'type': 'boolean'}, 'id': {'title': 'Id', 'type': 'string'}, 'name': {'title': 'Name', 'type': 'string'}, 'response_metadata': {'title': 'Response Metadata', 'type': 'object'}, 'type': {'default': 'ai', 'enum': ['ai'], 'title': 'Type', 'type': 'string'}}, 'required': ['content'], 'title': 'AIMessage', 'type': 'object'}, 'ChatMessage': {'description': 'Message that can be assigned an arbitrary speaker (i.e. role).', 'properties': {'additional_kwargs': {'title': 'Additional Kwargs', 'type': 'object'}, 'content': {'anyOf': [{'type': 'string'}, {'items': {'anyOf': [{'type': 'string'}, {'type': 'object'}]}, 'type': 'array'}], 'title': 'Content'}, 'id': {'title': 'Id', 'type': 'string'}, 'name': {'title': 'Name', 'type': 'string'}, 'response_metadata': {'title': 'Response Metadata', 'type': 'object'}, 'role': {'title': 'Role', 'type': 'string'}, 'type': {'default': 'chat', 'enum': ['chat'], 'title': 'Type', 'type': 'string'}}, 'required': ['content', 'role'], 'title': 'ChatMessage', 'type': 'object'}, 'FunctionMessage': {'description': 'Message for passing the result of executing a function back to a model.', 'properties': {'additional_kwargs': {'title': 'Additional Kwargs', 'type': 'object'}, 'content': {'anyOf': [{'type': 'string'}, {'items': {'anyOf': [{'type': 'string'}, {'type': 'object'}]}, 'type': 'array'}], 'title': 'Content'}, 'id': {'title': 'Id', 'type': 'string'}, 'name': {'title': 'Name', 'type': 'string'}, 'response_metadata': {'title': 'Response Metadata', 'type': 'object'}, 'type': {'default': 'function', 'enum': ['function'], 'title': 'Type', 'type': 'string'}}, 'required': ['content', 'name'], 'title': 'FunctionMessage', 'type': 'object'}, 'HumanMessage': {'description': 'Message from a human.', 'properties': {'additional_kwargs': {'title': 'Additional Kwargs', 'type': 'object'}, 'content': {'anyOf': [{'type': 'string'}, {'items': {'anyOf': [{'type': 'string'}, {'type': 'object'}]}, 'type': 'array'}], 'title': 'Content'}, 'example': {'default': False, 'title': 'Example', 'type': 'boolean'}, 'id': {'title': 'Id', 'type': 'string'}, 'name': {'title': 'Name', 'type': 'string'}, 'response_metadata': {'title': 'Response Metadata', 'type': 'object'}, 'type': {'default': 'human', 'enum': ['human'], 'title': 'Type', 'type': 'string'}}, 'required': ['content'], 'title': 'HumanMessage', 'type': 'object'}, 'SystemMessage': {'description': 'Message for priming AI behavior, usually passed in as the first of a sequence\\nof input messages.', 'properties': {'additional_kwargs': {'title': 'Additional Kwargs', 'type': 'object'}, 'content': {'anyOf': [{'type': 'string'}, {'items': {'anyOf': [{'type': 'string'}, {'type': 'object'}]}, 'type': 'array'}], 'title': 'Content'}, 'id': {'title': 'Id', 'type': 'string'}, 'name': {'title': 'Name', 'type': 'string'}, 'response_metadata': {'title': 'Response Metadata', 'type': 'object'}, 'type': {'default': 'system', 'enum': ['system'], 'title': 'Type', 'type': 'string'}}, 'required': ['content'], 'title': 'SystemMessage', 'type': 'object'}, 'ToolMessage': {'description': 'Message for passing the result of executing a tool back to a model.', 'properties': {'additional_kwargs': {'title': 'Additional Kwargs', 'type': 'object'}, 'content': {'anyOf': [{'type': 'string'}, {'items': {'anyOf': [{'type': 'string'}, {'type': 'object'}]}, 'type': 'array'}], 'title': 'Content'}, 'id': {'title': 'Id', 'type': 'string'}, 'name': {'title': 'Name', 'type': 'string'}, 'response_metadata': {'title': 'Response Metadata', 'type': 'object'}, 'tool_call_id': {'title': 'Tool Call Id', 'type': 'string'}, 'type': {'default': 'tool', 'enum': ['tool'], 'title': 'Type', 'type': 'string'}}, 'required': ['content', 'tool_call_id'], 'title': 'ToolMessage', 'type': 'object'}}, 'properties': {'history': {'items': {'anyOf': [{'$ref': '#/definitions/AIMessage'}, {'$ref': '#/definitions/HumanMessage'}, {'$ref': '#/definitions/ChatMessage'}, {'$ref': '#/definitions/SystemMessage'}, {'$ref': '#/definitions/FunctionMessage'}, {'$ref': '#/definitions/ToolMessage'}]}, 'title': 'History', 'type': 'array'}, 'question': {'title': 'Question', 'type': 'string'}}, 'title': 'PromptInput', 'type': 'object'}, 'id': 0, 'type': 'schema'}, {'data': {'id': ['langchain', 'prompts', 'chat', 'ChatPromptTemplate'], 'name': 'ChatPromptTemplate'}, 'id': 1, 'type': 'runnable'}, {'data': {'anyOf': [{'$ref': '#/definitions/StringPromptValue'}, {'$ref': '#/definitions/ChatPromptValueConcrete'}], 'definitions': {'AIMessage': {'description': 'Message from an AI.', 'properties': {'additional_kwargs': {'title': 'Additional Kwargs', 'type': 'object'}, 'content': {'anyOf': [{'type': 'string'}, {'items': {'anyOf': [{'type': 'string'}, {'type': 'object'}]}, 'type': 'array'}], 'title': 'Content'}, 'example': {'default': False, 'title': 'Example', 'type': 'boolean'}, 'id': {'title': 'Id', 'type': 'string'}, 'name': {'title': 'Name', 'type': 'string'}, 'response_metadata': {'title': 'Response Metadata', 'type': 'object'}, 'type': {'default': 'ai', 'enum': ['ai'], 'title': 'Type', 'type': 'string'}}, 'required': ['content'], 'title': 'AIMessage', 'type': 'object'}, 'ChatMessage': {'description': 'Message that can be assigned an arbitrary speaker (i.e. role).', 'properties': {'additional_kwargs': {'title': 'Additional Kwargs', 'type': 'object'}, 'content': {'anyOf': [{'type': 'string'}, {'items': {'anyOf': [{'type': 'string'}, {'type': 'object'}]}, 'type': 'array'}], 'title': 'Content'}, 'id': {'title': 'Id', 'type': 'string'}, 'name': {'title': 'Name', 'type': 'string'}, 'response_metadata': {'title': 'Response Metadata', 'type': 'object'}, 'role': {'title': 'Role', 'type': 'string'}, 'type': {'default': 'chat', 'enum': ['chat'], 'title': 'Type', 'type': 'string'}}, 'required': ['content', 'role'], 'title': 'ChatMessage', 'type': 'object'}, 'ChatPromptValueConcrete': {'description': 'Chat prompt value which explicitly lists out the message types it accepts.\\nFor use in external schemas.', 'properties': {'messages': {'items': {'anyOf': [{'$ref': '#/definitions/AIMessage'}, {'$ref': '#/definitions/HumanMessage'}, {'$ref': '#/definitions/ChatMessage'}, {'$ref': '#/definitions/SystemMessage'}, {'$ref': '#/definitions/FunctionMessage'}, {'$ref': '#/definitions/ToolMessage'}]}, 'title': 'Messages', 'type': 'array'}, 'type': {'default': 'ChatPromptValueConcrete', 'enum': ['ChatPromptValueConcrete'], 'title': 'Type', 'type': 'string'}}, 'required': ['messages'], 'title': 'ChatPromptValueConcrete', 'type': 'object'}, 'FunctionMessage': {'description': 'Message for passing the result of executing a function back to a model.', 'properties': {'additional_kwargs': {'title': 'Additional Kwargs', 'type': 'object'}, 'content': {'anyOf': [{'type': 'string'}, {'items': {'anyOf': [{'type': 'string'}, {'type': 'object'}]}, 'type': 'array'}], 'title': 'Content'}, 'id': {'title': 'Id', 'type': 'string'}, 'name': {'title': 'Name', 'type': 'string'}, 'response_metadata': {'title': 'Response Metadata', 'type': 'object'}, 'type': {'default': 'function', 'enum': ['function'], 'title': 'Type', 'type': 'string'}}, 'required': ['content', 'name'], 'title': 'FunctionMessage', 'type': 'object'}, 'HumanMessage': {'description': 'Message from a human.', 'properties': {'additional_kwargs': {'title': 'Additional Kwargs', 'type': 'object'}, 'content': {'anyOf': [{'type': 'string'}, {'items': {'anyOf': [{'type': 'string'}, {'type': 'object'}]}, 'type': 'array'}], 'title': 'Content'}, 'example': {'default': False, 'title': 'Example', 'type': 'boolean'}, 'id': {'title': 'Id', 'type': 'string'}, 'name': {'title': 'Name', 'type': 'string'}, 'response_metadata': {'title': 'Response Metadata', 'type': 'object'}, 'type': {'default': 'human', 'enum': ['human'], 'title': 'Type', 'type': 'string'}}, 'required': ['content'], 'title': 'HumanMessage', 'type': 'object'}, 'StringPromptValue': {'description': 'String prompt value.', 'properties': {'text': {'title': 'Text', 'type': 'string'}, 'type': {'default': 'StringPromptValue', 'enum': ['StringPromptValue'], 'title': 'Type', 'type': 'string'}}, 'required': ['text'], 'title': 'StringPromptValue', 'type': 'object'}, 'SystemMessage': {'description': 'Message for priming AI behavior, usually passed in as the first of a sequence\\nof input messages.', 'properties': {'additional_kwargs': {'title': 'Additional Kwargs', 'type': 'object'}, 'content': {'anyOf': [{'type': 'string'}, {'items': {'anyOf': [{'type': 'string'}, {'type': 'object'}]}, 'type': 'array'}], 'title': 'Content'}, 'id': {'title': 'Id', 'type': 'string'}, 'name': {'title': 'Name', 'type': 'string'}, 'response_metadata': {'title': 'Response Metadata', 'type': 'object'}, 'type': {'default': 'system', 'enum': ['system'], 'title': 'Type', 'type': 'string'}}, 'required': ['content'], 'title': 'SystemMessage', 'type': 'object'}, 'ToolMessage': {'description': 'Message for passing the result of executing a tool back to a model.', 'properties': {'additional_kwargs': {'title': 'Additional Kwargs', 'type': 'object'}, 'content': {'anyOf': [{'type': 'string'}, {'items': {'anyOf': [{'type': 'string'}, {'type': 'object'}]}, 'type': 'array'}], 'title': 'Content'}, 'id': {'title': 'Id', 'type': 'string'}, 'name': {'title': 'Name', 'type': 'string'}, 'response_metadata': {'title': 'Response Metadata', 'type': 'object'}, 'tool_call_id': {'title': 'Tool Call Id', 'type': 'string'}, 'type': {'default': 'tool', 'enum': ['tool'], 'title': 'Type', 'type': 'string'}}, 'required': ['content', 'tool_call_id'], 'title': 'ToolMessage', 'type': 'object'}}, 'title': 'ChatPromptTemplateOutput'}, 'id': 2, 'type': 'schema'}]}, 'id': ['langchain', 'prompts', 'chat', 'ChatPromptTemplate'], 'kwargs': {'input_variables': ['history', 'question'], 'messages': [{'id': ['langchain', 'prompts', 'chat', 'SystemMessagePromptTemplate'], 'kwargs': {'prompt': {'graph': {'edges': [{'source': 0, 'target': 1}, {'source': 1, 'target': 2}], 'nodes': [{'data': {'properties': {}, 'title': 'PromptInput', 'type': 'object'}, 'id': 0, 'type': 'schema'}, {'data': {'id': ['langchain', 'prompts', 'prompt', 'PromptTemplate'], 'name': 'PromptTemplate'}, 'id': 1, 'type': 'runnable'}, {'data': {'anyOf': [{'$ref': '#/definitions/StringPromptValue'}, {'$ref': '#/definitions/ChatPromptValueConcrete'}], 'definitions': {'AIMessage': {'description': 'Message from an AI.', 'properties': {'additional_kwargs': {'title': 'Additional Kwargs', 'type': 'object'}, 'content': {'anyOf': [{'type': 'string'}, {'items': {'anyOf': [{'type': 'string'}, {'type': 'object'}]}, 'type': 'array'}], 'title': 'Content'}, 'example': {'default': False, 'title': 'Example', 'type': 'boolean'}, 'id': {'title': 'Id', 'type': 'string'}, 'name': {'title': 'Name', 'type': 'string'}, 'response_metadata': {'title': 'Response Metadata', 'type': 'object'}, 'type': {'default': 'ai', 'enum': ['ai'], 'title': 'Type', 'type': 'string'}}, 'required': ['content'], 'title': 'AIMessage', 'type': 'object'}, 'ChatMessage': {'description': 'Message that can be assigned an arbitrary speaker (i.e. role).', 'properties': {'additional_kwargs': {'title': 'Additional Kwargs', 'type': 'object'}, 'content': {'anyOf': [{'type': 'string'}, {'items': {'anyOf': [{'type': 'string'}, {'type': 'object'}]}, 'type': 'array'}], 'title': 'Content'}, 'id': {'title': 'Id', 'type': 'string'}, 'name': {'title': 'Name', 'type': 'string'}, 'response_metadata': {'title': 'Response Metadata', 'type': 'object'}, 'role': {'title': 'Role', 'type': 'string'}, 'type': {'default': 'chat', 'enum': ['chat'], 'title': 'Type', 'type': 'string'}}, 'required': ['content', 'role'], 'title': 'ChatMessage', 'type': 'object'}, 'ChatPromptValueConcrete': {'description': 'Chat prompt value which explicitly lists out the message types it accepts.\\nFor use in external schemas.', 'properties': {'messages': {'items': {'anyOf': [{'$ref': '#/definitions/AIMessage'}, {'$ref': '#/definitions/HumanMessage'}, {'$ref': '#/definitions/ChatMessage'}, {'$ref': '#/definitions/SystemMessage'}, {'$ref': '#/definitions/FunctionMessage'}, {'$ref': '#/definitions/ToolMessage'}]}, 'title': 'Messages', 'type': 'array'}, 'type': {'default': 'ChatPromptValueConcrete', 'enum': ['ChatPromptValueConcrete'], 'title': 'Type', 'type': 'string'}}, 'required': ['messages'], 'title': 'ChatPromptValueConcrete', 'type': 'object'}, 'FunctionMessage': {'description': 'Message for passing the result of executing a function back to a model.', 'properties': {'additional_kwargs': {'title': 'Additional Kwargs', 'type': 'object'}, 'content': {'anyOf': [{'type': 'string'}, {'items': {'anyOf': [{'type': 'string'}, {'type': 'object'}]}, 'type': 'array'}], 'title': 'Content'}, 'id': {'title': 'Id', 'type': 'string'}, 'name': {'title': 'Name', 'type': 'string'}, 'response_metadata': {'title': 'Response Metadata', 'type': 'object'}, 'type': {'default': 'function', 'enum': ['function'], 'title': 'Type', 'type': 'string'}}, 'required': ['content', 'name'], 'title': 'FunctionMessage', 'type': 'object'}, 'HumanMessage': {'description': 'Message from a human.', 'properties': {'additional_kwargs': {'title': 'Additional Kwargs', 'type': 'object'}, 'content': {'anyOf': [{'type': 'string'}, {'items': {'anyOf': [{'type': 'string'}, {'type': 'object'}]}, 'type': 'array'}], 'title': 'Content'}, 'example': {'default': False, 'title': 'Example', 'type': 'boolean'}, 'id': {'title': 'Id', 'type': 'string'}, 'name': {'title': 'Name', 'type': 'string'}, 'response_metadata': {'title': 'Response Metadata', 'type': 'object'}, 'type': {'default': 'human', 'enum': ['human'], 'title': 'Type', 'type': 'string'}}, 'required': ['content'], 'title': 'HumanMessage', 'type': 'object'}, 'StringPromptValue': {'description': 'String prompt value.', 'properties': {'text': {'title': 'Text', 'type': 'string'}, 'type': {'default': 'StringPromptValue', 'enum': ['StringPromptValue'], 'title': 'Type', 'type': 'string'}}, 'required': ['text'], 'title': 'StringPromptValue', 'type': 'object'}, 'SystemMessage': {'description': 'Message for priming AI behavior, usually passed in as the first of a sequence\\nof input messages.', 'properties': {'additional_kwargs': {'title': 'Additional Kwargs', 'type': 'object'}, 'content': {'anyOf': [{'type': 'string'}, {'items': {'anyOf': [{'type': 'string'}, {'type': 'object'}]}, 'type': 'array'}], 'title': 'Content'}, 'id': {'title': 'Id', 'type': 'string'}, 'name': {'title': 'Name', 'type': 'string'}, 'response_metadata': {'title': 'Response Metadata', 'type': 'object'}, 'type': {'default': 'system', 'enum': ['system'], 'title': 'Type', 'type': 'string'}}, 'required': ['content'], 'title': 'SystemMessage', 'type': 'object'}, 'ToolMessage': {'description': 'Message for passing the result of executing a tool back to a model.', 'properties': {'additional_kwargs': {'title': 'Additional Kwargs', 'type': 'object'}, 'content': {'anyOf': [{'type': 'string'}, {'items': {'anyOf': [{'type': 'string'}, {'type': 'object'}]}, 'type': 'array'}], 'title': 'Content'}, 'id': {'title': 'Id', 'type': 'string'}, 'name': {'title': 'Name', 'type': 'string'}, 'response_metadata': {'title': 'Response Metadata', 'type': 'object'}, 'tool_call_id': {'title': 'Tool Call Id', 'type': 'string'}, 'type': {'default': 'tool', 'enum': ['tool'], 'title': 'Type', 'type': 'string'}}, 'required': ['content', 'tool_call_id'], 'title': 'ToolMessage', 'type': 'object'}}, 'title': 'PromptTemplateOutput'}, 'id': 2, 'type': 'schema'}]}, 'id': ['langchain', 'prompts', 'prompt', 'PromptTemplate'], 'kwargs': {'input_variables': [], 'partial_variables': {}, 'template': '한글로 간결하게 답변하세요', 'template_format': 'f-string'}, 'lc': 1, 'name': 'PromptTemplate', 'type': 'constructor'}}, 'lc': 1, 'type': 'constructor'}, {'id': ['langchain', 'prompts', 'chat', 'MessagesPlaceholder'], 'kwargs': {'optional': False, 'variable_name': 'history'}, 'lc': 1, 'type': 'constructor'}, {'id': ['langchain', 'prompts', 'chat', 'HumanMessagePromptTemplate'], 'kwargs': {'prompt': {'graph': {'edges': [{'source': 0, 'target': 1}, {'source': 1, 'target': 2}], 'nodes': [{'data': {'properties': {'question': {'title': 'Question', 'type': 'string'}}, 'title': 'PromptInput', 'type': 'object'}, 'id': 0, 'type': 'schema'}, {'data': {'id': ['langchain', 'prompts', 'prompt', 'PromptTemplate'], 'name': 'PromptTemplate'}, 'id': 1, 'type': 'runnable'}, {'data': {'anyOf': [{'$ref': '#/definitions/StringPromptValue'}, {'$ref': '#/definitions/ChatPromptValueConcrete'}], 'definitions': {'AIMessage': {'description': 'Message from an AI.', 'properties': {'additional_kwargs': {'title': 'Additional Kwargs', 'type': 'object'}, 'content': {'anyOf': [{'type': 'string'}, {'items': {'anyOf': [{'type': 'string'}, {'type': 'object'}]}, 'type': 'array'}], 'title': 'Content'}, 'example': {'default': False, 'title': 'Example', 'type': 'boolean'}, 'id': {'title': 'Id', 'type': 'string'}, 'name': {'title': 'Name', 'type': 'string'}, 'response_metadata': {'title': 'Response Metadata', 'type': 'object'}, 'type': {'default': 'ai', 'enum': ['ai'], 'title': 'Type', 'type': 'string'}}, 'required': ['content'], 'title': 'AIMessage', 'type': 'object'}, 'ChatMessage': {'description': 'Message that can be assigned an arbitrary speaker (i.e. role).', 'properties': {'additional_kwargs': {'title': 'Additional Kwargs', 'type': 'object'}, 'content': {'anyOf': [{'type': 'string'}, {'items': {'anyOf': [{'type': 'string'}, {'type': 'object'}]}, 'type': 'array'}], 'title': 'Content'}, 'id': {'title': 'Id', 'type': 'string'}, 'name': {'title': 'Name', 'type': 'string'}, 'response_metadata': {'title': 'Response Metadata', 'type': 'object'}, 'role': {'title': 'Role', 'type': 'string'}, 'type': {'default': 'chat', 'enum': ['chat'], 'title': 'Type', 'type': 'string'}}, 'required': ['content', 'role'], 'title': 'ChatMessage', 'type': 'object'}, 'ChatPromptValueConcrete': {'description': 'Chat prompt value which explicitly lists out the message types it accepts.\\nFor use in external schemas.', 'properties': {'messages': {'items': {'anyOf': [{'$ref': '#/definitions/AIMessage'}, {'$ref': '#/definitions/HumanMessage'}, {'$ref': '#/definitions/ChatMessage'}, {'$ref': '#/definitions/SystemMessage'}, {'$ref': '#/definitions/FunctionMessage'}, {'$ref': '#/definitions/ToolMessage'}]}, 'title': 'Messages', 'type': 'array'}, 'type': {'default': 'ChatPromptValueConcrete', 'enum': ['ChatPromptValueConcrete'], 'title': 'Type', 'type': 'string'}}, 'required': ['messages'], 'title': 'ChatPromptValueConcrete', 'type': 'object'}, 'FunctionMessage': {'description': 'Message for passing the result of executing a function back to a model.', 'properties': {'additional_kwargs': {'title': 'Additional Kwargs', 'type': 'object'}, 'content': {'anyOf': [{'type': 'string'}, {'items': {'anyOf': [{'type': 'string'}, {'type': 'object'}]}, 'type': 'array'}], 'title': 'Content'}, 'id': {'title': 'Id', 'type': 'string'}, 'name': {'title': 'Name', 'type': 'string'}, 'response_metadata': {'title': 'Response Metadata', 'type': 'object'}, 'type': {'default': 'function', 'enum': ['function'], 'title': 'Type', 'type': 'string'}}, 'required': ['content', 'name'], 'title': 'FunctionMessage', 'type': 'object'}, 'HumanMessage': {'description': 'Message from a human.', 'properties': {'additional_kwargs': {'title': 'Additional Kwargs', 'type': 'object'}, 'content': {'anyOf': [{'type': 'string'}, {'items': {'anyOf': [{'type': 'string'}, {'type': 'object'}]}, 'type': 'array'}], 'title': 'Content'}, 'example': {'default': False, 'title': 'Example', 'type': 'boolean'}, 'id': {'title': 'Id', 'type': 'string'}, 'name': {'title': 'Name', 'type': 'string'}, 'response_metadata': {'title': 'Response Metadata', 'type': 'object'}, 'type': {'default': 'human', 'enum': ['human'], 'title': 'Type', 'type': 'string'}}, 'required': ['content'], 'title': 'HumanMessage', 'type': 'object'}, 'StringPromptValue': {'description': 'String prompt value.', 'properties': {'text': {'title': 'Text', 'type': 'string'}, 'type': {'default': 'StringPromptValue', 'enum': ['StringPromptValue'], 'title': 'Type', 'type': 'string'}}, 'required': ['text'], 'title': 'StringPromptValue', 'type': 'object'}, 'SystemMessage': {'description': 'Message for priming AI behavior, usually passed in as the first of a sequence\\nof input messages.', 'properties': {'additional_kwargs': {'title': 'Additional Kwargs', 'type': 'object'}, 'content': {'anyOf': [{'type': 'string'}, {'items': {'anyOf': [{'type': 'string'}, {'type': 'object'}]}, 'type': 'array'}], 'title': 'Content'}, 'id': {'title': 'Id', 'type': 'string'}, 'name': {'title': 'Name', 'type': 'string'}, 'response_metadata': {'title': 'Response Metadata', 'type': 'object'}, 'type': {'default': 'system', 'enum': ['system'], 'title': 'Type', 'type': 'string'}}, 'required': ['content'], 'title': 'SystemMessage', 'type': 'object'}, 'ToolMessage': {'description': 'Message for passing the result of executing a tool back to a model.', 'properties': {'additional_kwargs': {'title': 'Additional Kwargs', 'type': 'object'}, 'content': {'anyOf': [{'type': 'string'}, {'items': {'anyOf': [{'type': 'string'}, {'type': 'object'}]}, 'type': 'array'}], 'title': 'Content'}, 'id': {'title': 'Id', 'type': 'string'}, 'name': {'title': 'Name', 'type': 'string'}, 'response_metadata': {'title': 'Response Metadata', 'type': 'object'}, 'tool_call_id': {'title': 'Tool Call Id', 'type': 'string'}, 'type': {'default': 'tool', 'enum': ['tool'], 'title': 'Type', 'type': 'string'}}, 'required': ['content', 'tool_call_id'], 'title': 'ToolMessage', 'type': 'object'}}, 'title': 'PromptTemplateOutput'}, 'id': 2, 'type': 'schema'}]}, 'id': ['langchain', 'prompts', 'prompt', 'PromptTemplate'], 'kwargs': {'input_variables': ['question'], 'partial_variables': {}, 'template': '{question}', 'template_format': 'f-string'}, 'lc': 1, 'name': 'PromptTemplate', 'type': 'constructor'}}, 'lc': 1, 'type': 'constructor'}], 'partial_variables': {}}, 'lc': 1, 'name': 'ChatPromptTemplate', 'type': 'constructor'}, 'last': {'graph': {'edges': [{'source': 0, 'target': 1}, {'source': 1, 'target': 2}], 'nodes': [{'data': {'anyOf': [{'type': 'string'}, {'$ref': '#/definitions/StringPromptValue'}, {'$ref': '#/definitions/ChatPromptValueConcrete'}, {'items': {'anyOf': [{'$ref': '#/definitions/AIMessage'}, {'$ref': '#/definitions/HumanMessage'}, {'$ref': '#/definitions/ChatMessage'}, {'$ref': '#/definitions/SystemMessage'}, {'$ref': '#/definitions/FunctionMessage'}, {'$ref': '#/definitions/ToolMessage'}]}, 'type': 'array'}], 'definitions': {'AIMessage': {'description': 'Message from an AI.', 'properties': {'additional_kwargs': {'title': 'Additional Kwargs', 'type': 'object'}, 'content': {'anyOf': [{'type': 'string'}, {'items': {'anyOf': [{'type': 'string'}, {'type': 'object'}]}, 'type': 'array'}], 'title': 'Content'}, 'example': {'default': False, 'title': 'Example', 'type': 'boolean'}, 'id': {'title': 'Id', 'type': 'string'}, 'name': {'title': 'Name', 'type': 'string'}, 'response_metadata': {'title': 'Response Metadata', 'type': 'object'}, 'type': {'default': 'ai', 'enum': ['ai'], 'title': 'Type', 'type': 'string'}}, 'required': ['content'], 'title': 'AIMessage', 'type': 'object'}, 'ChatMessage': {'description': 'Message that can be assigned an arbitrary speaker (i.e. role).', 'properties': {'additional_kwargs': {'title': 'Additional Kwargs', 'type': 'object'}, 'content': {'anyOf': [{'type': 'string'}, {'items': {'anyOf': [{'type': 'string'}, {'type': 'object'}]}, 'type': 'array'}], 'title': 'Content'}, 'id': {'title': 'Id', 'type': 'string'}, 'name': {'title': 'Name', 'type': 'string'}, 'response_metadata': {'title': 'Response Metadata', 'type': 'object'}, 'role': {'title': 'Role', 'type': 'string'}, 'type': {'default': 'chat', 'enum': ['chat'], 'title': 'Type', 'type': 'string'}}, 'required': ['content', 'role'], 'title': 'ChatMessage', 'type': 'object'}, 'ChatPromptValueConcrete': {'description': 'Chat prompt value which explicitly lists out the message types it accepts.\\nFor use in external schemas.', 'properties': {'messages': {'items': {'anyOf': [{'$ref': '#/definitions/AIMessage'}, {'$ref': '#/definitions/HumanMessage'}, {'$ref': '#/definitions/ChatMessage'}, {'$ref': '#/definitions/SystemMessage'}, {'$ref': '#/definitions/FunctionMessage'}, {'$ref': '#/definitions/ToolMessage'}]}, 'title': 'Messages', 'type': 'array'}, 'type': {'default': 'ChatPromptValueConcrete', 'enum': ['ChatPromptValueConcrete'], 'title': 'Type', 'type': 'string'}}, 'required': ['messages'], 'title': 'ChatPromptValueConcrete', 'type': 'object'}, 'FunctionMessage': {'description': 'Message for passing the result of executing a function back to a model.', 'properties': {'additional_kwargs': {'title': 'Additional Kwargs', 'type': 'object'}, 'content': {'anyOf': [{'type': 'string'}, {'items': {'anyOf': [{'type': 'string'}, {'type': 'object'}]}, 'type': 'array'}], 'title': 'Content'}, 'id': {'title': 'Id', 'type': 'string'}, 'name': {'title': 'Name', 'type': 'string'}, 'response_metadata': {'title': 'Response Metadata', 'type': 'object'}, 'type': {'default': 'function', 'enum': ['function'], 'title': 'Type', 'type': 'string'}}, 'required': ['content', 'name'], 'title': 'FunctionMessage', 'type': 'object'}, 'HumanMessage': {'description': 'Message from a human.', 'properties': {'additional_kwargs': {'title': 'Additional Kwargs', 'type': 'object'}, 'content': {'anyOf': [{'type': 'string'}, {'items': {'anyOf': [{'type': 'string'}, {'type': 'object'}]}, 'type': 'array'}], 'title': 'Content'}, 'example': {'default': False, 'title': 'Example', 'type': 'boolean'}, 'id': {'title': 'Id', 'type': 'string'}, 'name': {'title': 'Name', 'type': 'string'}, 'response_metadata': {'title': 'Response Metadata', 'type': 'object'}, 'type': {'default': 'human', 'enum': ['human'], 'title': 'Type', 'type': 'string'}}, 'required': ['content'], 'title': 'HumanMessage', 'type': 'object'}, 'StringPromptValue': {'description': 'String prompt value.', 'properties': {'text': {'title': 'Text', 'type': 'string'}, 'type': {'default': 'StringPromptValue', 'enum': ['StringPromptValue'], 'title': 'Type', 'type': 'string'}}, 'required': ['text'], 'title': 'StringPromptValue', 'type': 'object'}, 'SystemMessage': {'description': 'Message for priming AI behavior, usually passed in as the first of a sequence\\nof input messages.', 'properties': {'additional_kwargs': {'title': 'Additional Kwargs', 'type': 'object'}, 'content': {'anyOf': [{'type': 'string'}, {'items': {'anyOf': [{'type': 'string'}, {'type': 'object'}]}, 'type': 'array'}], 'title': 'Content'}, 'id': {'title': 'Id', 'type': 'string'}, 'name': {'title': 'Name', 'type': 'string'}, 'response_metadata': {'title': 'Response Metadata', 'type': 'object'}, 'type': {'default': 'system', 'enum': ['system'], 'title': 'Type', 'type': 'string'}}, 'required': ['content'], 'title': 'SystemMessage', 'type': 'object'}, 'ToolMessage': {'description': 'Message for passing the result of executing a tool back to a model.', 'properties': {'additional_kwargs': {'title': 'Additional Kwargs', 'type': 'object'}, 'content': {'anyOf': [{'type': 'string'}, {'items': {'anyOf': [{'type': 'string'}, {'type': 'object'}]}, 'type': 'array'}], 'title': 'Content'}, 'id': {'title': 'Id', 'type': 'string'}, 'name': {'title': 'Name', 'type': 'string'}, 'response_metadata': {'title': 'Response Metadata', 'type': 'object'}, 'tool_call_id': {'title': 'Tool Call Id', 'type': 'string'}, 'type': {'default': 'tool', 'enum': ['tool'], 'title': 'Type', 'type': 'string'}}, 'required': ['content', 'tool_call_id'], 'title': 'ToolMessage', 'type': 'object'}}, 'title': 'ChatOpenAIInput'}, 'id': 0, 'type': 'schema'}, {'data': {'id': ['langchain', 'chat_models', 'openai', 'ChatOpenAI'], 'name': 'ChatOpenAI'}, 'id': 1, 'type': 'runnable'}, {'data': {'anyOf': [{'$ref': '#/definitions/AIMessage'}, {'$ref': '#/definitions/HumanMessage'}, {'$ref': '#/definitions/ChatMessage'}, {'$ref': '#/definitions/SystemMessage'}, {'$ref': '#/definitions/FunctionMessage'}, {'$ref': '#/definitions/ToolMessage'}], 'definitions': {'AIMessage': {'description': 'Message from an AI.', 'properties': {'additional_kwargs': {'title': 'Additional Kwargs', 'type': 'object'}, 'content': {'anyOf': [{'type': 'string'}, {'items': {'anyOf': [{'type': 'string'}, {'type': 'object'}]}, 'type': 'array'}], 'title': 'Content'}, 'example': {'default': False, 'title': 'Example', 'type': 'boolean'}, 'id': {'title': 'Id', 'type': 'string'}, 'name': {'title': 'Name', 'type': 'string'}, 'response_metadata': {'title': 'Response Metadata', 'type': 'object'}, 'type': {'default': 'ai', 'enum': ['ai'], 'title': 'Type', 'type': 'string'}}, 'required': ['content'], 'title': 'AIMessage', 'type': 'object'}, 'ChatMessage': {'description': 'Message that can be assigned an arbitrary speaker (i.e. role).', 'properties': {'additional_kwargs': {'title': 'Additional Kwargs', 'type': 'object'}, 'content': {'anyOf': [{'type': 'string'}, {'items': {'anyOf': [{'type': 'string'}, {'type': 'object'}]}, 'type': 'array'}], 'title': 'Content'}, 'id': {'title': 'Id', 'type': 'string'}, 'name': {'title': 'Name', 'type': 'string'}, 'response_metadata': {'title': 'Response Metadata', 'type': 'object'}, 'role': {'title': 'Role', 'type': 'string'}, 'type': {'default': 'chat', 'enum': ['chat'], 'title': 'Type', 'type': 'string'}}, 'required': ['content', 'role'], 'title': 'ChatMessage', 'type': 'object'}, 'FunctionMessage': {'description': 'Message for passing the result of executing a function back to a model.', 'properties': {'additional_kwargs': {'title': 'Additional Kwargs', 'type': 'object'}, 'content': {'anyOf': [{'type': 'string'}, {'items': {'anyOf': [{'type': 'string'}, {'type': 'object'}]}, 'type': 'array'}], 'title': 'Content'}, 'id': {'title': 'Id', 'type': 'string'}, 'name': {'title': 'Name', 'type': 'string'}, 'response_metadata': {'title': 'Response Metadata', 'type': 'object'}, 'type': {'default': 'function', 'enum': ['function'], 'title': 'Type', 'type': 'string'}}, 'required': ['content', 'name'], 'title': 'FunctionMessage', 'type': 'object'}, 'HumanMessage': {'description': 'Message from a human.', 'properties': {'additional_kwargs': {'title': 'Additional Kwargs', 'type': 'object'}, 'content': {'anyOf': [{'type': 'string'}, {'items': {'anyOf': [{'type': 'string'}, {'type': 'object'}]}, 'type': 'array'}], 'title': 'Content'}, 'example': {'default': False, 'title': 'Example', 'type': 'boolean'}, 'id': {'title': 'Id', 'type': 'string'}, 'name': {'title': 'Name', 'type': 'string'}, 'response_metadata': {'title': 'Response Metadata', 'type': 'object'}, 'type': {'default': 'human', 'enum': ['human'], 'title': 'Type', 'type': 'string'}}, 'required': ['content'], 'title': 'HumanMessage', 'type': 'object'}, 'SystemMessage': {'description': 'Message for priming AI behavior, usually passed in as the first of a sequence\\nof input messages.', 'properties': {'additional_kwargs': {'title': 'Additional Kwargs', 'type': 'object'}, 'content': {'anyOf': [{'type': 'string'}, {'items': {'anyOf': [{'type': 'string'}, {'type': 'object'}]}, 'type': 'array'}], 'title': 'Content'}, 'id': {'title': 'Id', 'type': 'string'}, 'name': {'title': 'Name', 'type': 'string'}, 'response_metadata': {'title': 'Response Metadata', 'type': 'object'}, 'type': {'default': 'system', 'enum': ['system'], 'title': 'Type', 'type': 'string'}}, 'required': ['content'], 'title': 'SystemMessage', 'type': 'object'}, 'ToolMessage': {'description': 'Message for passing the result of executing a tool back to a model.', 'properties': {'additional_kwargs': {'title': 'Additional Kwargs', 'type': 'object'}, 'content': {'anyOf': [{'type': 'string'}, {'items': {'anyOf': [{'type': 'string'}, {'type': 'object'}]}, 'type': 'array'}], 'title': 'Content'}, 'id': {'title': 'Id', 'type': 'string'}, 'name': {'title': 'Name', 'type': 'string'}, 'response_metadata': {'title': 'Response Metadata', 'type': 'object'}, 'tool_call_id': {'title': 'Tool Call Id', 'type': 'string'}, 'type': {'default': 'tool', 'enum': ['tool'], 'title': 'Type', 'type': 'string'}}, 'required': ['content', 'tool_call_id'], 'title': 'ToolMessage', 'type': 'object'}}, 'title': 'ChatOpenAIOutput'}, 'id': 2, 'type': 'schema'}]}, 'id': ['langchain', 'chat_models', 'openai', 'ChatOpenAI'], 'kwargs': {'openai_api_key': {'id': ['OPENAI_API_KEY'], 'lc': 1, 'type': 'secret'}, 'streaming': True}, 'lc': 1, 'name': 'ChatOpenAI', 'type': 'constructor'}, 'middle': [], 'name': None}, 'lc': 1, 'name': 'RunnableSequence', 'type': 'constructor'}, 'config': {}, 'config_factories': [{'id': ['langchain_core', 'runnables', 'base', '<lambda>'], 'lc': 1, 'repr': '<function Runnable.with_listeners.<locals>.<lambda> at 0x1709cbeb0>', 'type': 'not_implemented'}], 'custom_input_type': None, 'custom_output_type': None, 'kwargs': {}}, 'lc': 1, 'name': 'RunnableSequence', 'type': 'constructor'}, 'middle': [], 'name': None}, 'lc': 1, 'name': 'RunnableSequence', 'type': 'constructor'}\n",
      "events [{'name': 'start', 'time': '2024-03-30T06:09:48.653877+00:00'}, {'name': 'end', 'time': '2024-03-30T06:09:49.490328+00:00'}]\n",
      "inputs {'question': '답변에 적절한 이모지도 추가해줘'}\n",
      "{'output': {'content': '서울 🇰🇷', 'additional_kwargs': {}, 'response_metadata': {'finish_reason': 'stop'}, 'type': 'ai', 'example': False}}\n",
      "outputs {'output': {'content': '서울 🇰🇷', 'additional_kwargs': {}, 'response_metadata': {'finish_reason': 'stop'}, 'type': 'ai', 'example': False}}\n",
      "reference_example_id None\n",
      "parent_run_id None\n",
      "tags []\n",
      "session_id c8f964ce-5210-467b-ba83-8f8d3bf5e716\n",
      "child_run_ids [UUID('f38474aa-12a1-4e20-83d2-d681f57adaf1'), UUID('04797405-45f4-4e39-be43-893d6b362bf0'), UUID('67f11a3b-1b98-470e-a62e-37083351413f'), UUID('19e1851a-2706-4db0-bba5-be890615ff8c'), UUID('c54ae1eb-dc90-4b2f-85b6-87f1a85d6886'), UUID('d5337605-5eb8-4890-a27f-77a1e1bc4259')]\n",
      "child_runs None\n",
      "feedback_stats {'thumbs': {'n': 1, 'avg': 1.0, 'show_feedback_arrow': False}}\n",
      "app_path /o/8c9eeb3c-2665-5405-bc50-0767fdf4ca8f/projects/p/c8f964ce-5210-467b-ba83-8f8d3bf5e716/r/56e05ab2-cad6-4654-b3b8-9cf380779a2c?trace_id=56e05ab2-cad6-4654-b3b8-9cf380779a2c&start_time=2024-03-30T06:09:48.653877\n",
      "manifest_id None\n",
      "status success\n",
      "prompt_tokens 127\n",
      "completion_tokens 9\n",
      "total_tokens 136\n",
      "first_token_time 2024-03-30 06:09:49.429246\n",
      "total_cost 0.000077\n",
      "prompt_cost 0.0000635\n",
      "completion_cost 0.0000135\n",
      "parent_run_ids []\n",
      "trace_id 56e05ab2-cad6-4654-b3b8-9cf380779a2c\n",
      "dotted_order 20240330T060948653877Z56e05ab2-cad6-4654-b3b8-9cf380779a2c\n"
     ]
    }
   ],
   "source": [
    "for k, v in client.read_run(feed.run_id):\n",
    "    if k == \"outputs\":\n",
    "        print(v)\n",
    "    if k == \"extra\":\n",
    "        print(v)\n",
    "    print(k, v)"
   ]
  },
  {
   "cell_type": "code",
   "execution_count": 6,
   "metadata": {},
   "outputs": [],
   "source": [
    "def extract_qa_from_runid(run_id, session_id=None):\n",
    "    ret = dict()\n",
    "    filter_flag = True\n",
    "    try:\n",
    "        for k, v in client.read_run(run_id):\n",
    "            if k == \"outputs\":\n",
    "                ret[\"answer\"] = v[\"output\"][\"content\"]\n",
    "\n",
    "            if k == \"extra\":\n",
    "                ret[\"question\"] = v[\"metadata\"][\"query\"]\n",
    "                if session_id is not None:\n",
    "                    sid = v[\"metadata\"][\"session_id\"]\n",
    "                    if sid.strip() == session_id.strip():\n",
    "                        ret[\"session_id\"] = sid.strip()\n",
    "                    else:\n",
    "                        filter_flag = False\n",
    "                elif \"session_id\" in v[\"metadata\"]:\n",
    "                    ret[\"session_id\"] = v[\"metadata\"][\"session_id\"].strip()\n",
    "                else:\n",
    "                    ret[\"session_id\"] = \"\"\n",
    "        if filter_flag:\n",
    "            return ret\n",
    "        else:\n",
    "            return None\n",
    "    except Exception as e:\n",
    "        print(e)\n",
    "        return None"
   ]
  },
  {
   "cell_type": "code",
   "execution_count": 7,
   "metadata": {},
   "outputs": [
    {
     "data": {
      "text/plain": [
       "{'question': '대한민국의 수도는 어디야?', 'session_id': 'C09633', 'answer': '서울 🇰🇷'}"
      ]
     },
     "execution_count": 7,
     "metadata": {},
     "output_type": "execute_result"
    }
   ],
   "source": [
    "extract_qa_from_runid(feed.run_id, session_id=None)"
   ]
  },
  {
   "cell_type": "code",
   "execution_count": 8,
   "metadata": {},
   "outputs": [
    {
     "name": "stdout",
     "output_type": "stream",
     "text": [
      "dataset_id=UUID('f37aeb6c-aeaa-4b4c-b47f-8ad4c5667e29') inputs={'question': '답변에 적절한 이모지도 추가해줘'} outputs={'output': {'type': 'ai', 'content': '서울 🇰🇷', 'example': False, 'additional_kwargs': {}, 'response_metadata': {'finish_reason': 'stop'}}} metadata=None id=UUID('f1a0f23a-adc8-40ce-b8b7-9fa492f9ec9b') created_at=datetime.datetime(2024, 3, 30, 6, 11, 0, 841358, tzinfo=datetime.timezone.utc) modified_at=datetime.datetime(2024, 3, 30, 6, 11, 0, 841358, tzinfo=datetime.timezone.utc) runs=[] source_run_id=UUID('56e05ab2-cad6-4654-b3b8-9cf380779a2c')\n"
     ]
    }
   ],
   "source": [
    "examples = client.list_examples(dataset_id=dataset.id)\n",
    "for example in examples:\n",
    "    print(example)\n",
    "    break"
   ]
  },
  {
   "cell_type": "code",
   "execution_count": 9,
   "metadata": {},
   "outputs": [],
   "source": [
    "def create_qa_pairs(dataset_id, session_id=None):\n",
    "    qa_pairs = []\n",
    "    examples = client.list_examples(dataset_id=dataset_id)\n",
    "    for exp in examples:\n",
    "        qa = dict()\n",
    "        ret = extract_qa_from_runid(exp.source_run_id, session_id)\n",
    "\n",
    "        if ret is None:\n",
    "            continue\n",
    "        qa[\"question\"] = ret[\"question\"]\n",
    "        qa[\"answer\"] = ret[\"answer\"]\n",
    "        qa[\"session_id\"] = ret[\"session_id\"]\n",
    "        qa_pairs.append(qa)\n",
    "    return qa_pairs"
   ]
  },
  {
   "cell_type": "code",
   "execution_count": 10,
   "metadata": {},
   "outputs": [
    {
     "data": {
      "text/plain": [
       "[{'question': '대한민국의 수도는 어디야?', 'answer': '서울 🇰🇷', 'session_id': 'C09633'}]"
      ]
     },
     "execution_count": 10,
     "metadata": {},
     "output_type": "execute_result"
    }
   ],
   "source": [
    "qa_pairs = create_qa_pairs(dataset.id, session_id=None)\n",
    "qa_pairs"
   ]
  },
  {
   "cell_type": "code",
   "execution_count": 11,
   "metadata": {},
   "outputs": [],
   "source": [
    "from langchain.prompts.few_shot import FewShotPromptTemplate\n",
    "from langchain.prompts.prompt import PromptTemplate"
   ]
  },
  {
   "cell_type": "code",
   "execution_count": 12,
   "metadata": {},
   "outputs": [
    {
     "name": "stdout",
     "output_type": "stream",
     "text": [
      "Question: 대한민국의 수도는 어디야?\n",
      "Response: 서울 🇰🇷\n"
     ]
    }
   ],
   "source": [
    "example_prompt = PromptTemplate(\n",
    "    input_variables=[\"instruction\", \"question\", \"answer\"],\n",
    "    template=\"Question: {question}\\nResponse: {answer}\",\n",
    ")\n",
    "\n",
    "print(example_prompt.format(**qa_pairs[0]))"
   ]
  },
  {
   "cell_type": "code",
   "execution_count": 13,
   "metadata": {},
   "outputs": [
    {
     "name": "stdout",
     "output_type": "stream",
     "text": [
      "Question: 대한민국의 수도는 어디야?\n",
      "Response: 서울 🇰🇷\n",
      "\n",
      "----\n",
      "Question: 중국의 수도는 어디인가요?\n",
      "Response: \n"
     ]
    }
   ],
   "source": [
    "prompt = FewShotPromptTemplate(\n",
    "    examples=qa_pairs,\n",
    "    example_prompt=example_prompt,\n",
    "    suffix=\"----\\nQuestion: {question}\\nResponse: \",\n",
    "    input_variables=[\"question\"],\n",
    ")\n",
    "\n",
    "question = \"중국의 수도는 어디인가요?\"\n",
    "final_prompt = prompt.format(question=question)\n",
    "print(final_prompt)"
   ]
  },
  {
   "cell_type": "code",
   "execution_count": 14,
   "metadata": {},
   "outputs": [],
   "source": [
    "final_prompt = PromptTemplate.from_template(\n",
    "    \"\"\"Please refer to the INSTRUCTIONS and FEW SHOT examples to answer the question.\n",
    "    \n",
    "#FEW EXAMPLES:\n",
    "{few_shot}                             \n",
    "\n",
    "#INSTUCTIONS:\n",
    "{instruction}\n",
    "\"\"\"\n",
    ")"
   ]
  },
  {
   "cell_type": "code",
   "execution_count": 15,
   "metadata": {},
   "outputs": [
    {
     "name": "stdout",
     "output_type": "stream",
     "text": [
      "Please refer to the INSTRUCTIONS and FEW SHOT examples to answer the question.\n",
      "    \n",
      "#FEW EXAMPLES:\n",
      "Question: 대한민국의 수도는 어디야?\n",
      "Response: 서울 🇰🇷\n",
      "\n",
      "----\n",
      "Question: 프랑스의 수도는?\n",
      "Response:                              \n",
      "\n",
      "#INSTUCTIONS:\n",
      "한글로 간결하게 답변해 주세요\n",
      "\n"
     ]
    }
   ],
   "source": [
    "prompt_string = final_prompt.format(\n",
    "    few_shot=prompt.format(question=\"프랑스의 수도는?\"),\n",
    "    instruction=\"한글로 간결하게 답변해 주세요\",\n",
    ")\n",
    "\n",
    "print(prompt_string)"
   ]
  },
  {
   "cell_type": "code",
   "execution_count": 16,
   "metadata": {},
   "outputs": [],
   "source": [
    "from langchain.callbacks.base import BaseCallbackHandler\n",
    "from langchain_openai import ChatOpenAI\n",
    "\n",
    "\n",
    "class StreamHandler(BaseCallbackHandler):\n",
    "    def on_llm_new_token(self, token: str, **kwargs) -> None:\n",
    "        print(token, end=\"\", flush=True)"
   ]
  },
  {
   "cell_type": "code",
   "execution_count": 17,
   "metadata": {},
   "outputs": [],
   "source": [
    "chain = final_prompt | ChatOpenAI(\n",
    "    model=\"gpt-4-turbo-preview\",\n",
    "    temperature=0,\n",
    "    streaming=True,\n",
    "    callbacks=[StreamHandler()],\n",
    ")"
   ]
  },
  {
   "cell_type": "code",
   "execution_count": 20,
   "metadata": {},
   "outputs": [
    {
     "name": "stdout",
     "output_type": "stream",
     "text": [
      "파리 🇫🇷"
     ]
    }
   ],
   "source": [
    "_ = chain.invoke(\n",
    "    {\n",
    "        \"few_shot\": prompt.format(question=\"프랑스의 수도는 어디야?\"),\n",
    "        \"instruction\": \"한글로 간결하게 답변해 주세요\",\n",
    "    }\n",
    ")"
   ]
  }
 ],
 "metadata": {
  "kernelspec": {
   "display_name": "py-test",
   "language": "python",
   "name": "python3"
  },
  "language_info": {
   "codemirror_mode": {
    "name": "ipython",
    "version": 3
   },
   "file_extension": ".py",
   "mimetype": "text/x-python",
   "name": "python",
   "nbconvert_exporter": "python",
   "pygments_lexer": "ipython3",
   "version": "3.10.13"
  }
 },
 "nbformat": 4,
 "nbformat_minor": 2
}
